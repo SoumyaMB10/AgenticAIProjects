{
 "cells": [
  {
   "cell_type": "code",
   "execution_count": 20,
   "metadata": {},
   "outputs": [],
   "source": [
    "from dotenv import load_dotenv\n",
    "load_dotenv()\n",
    "\n",
    "import os \n",
    "\n",
    "from langchain_groq import ChatGroq\n",
    "from langgraph.graph import START,END, StateGraph\n",
    "from typing_extensions import TypedDict\n",
    "\n",
    "from IPython.display import display, Image\n",
    "from langchain_community.document_loaders import YoutubeLoader\n",
    "\n"
   ]
  },
  {
   "cell_type": "code",
   "execution_count": 21,
   "metadata": {},
   "outputs": [
    {
     "data": {
      "text/plain": [
       "ChatGroq(client=<groq.resources.chat.completions.Completions object at 0x0000019241DC0170>, async_client=<groq.resources.chat.completions.AsyncCompletions object at 0x0000019241DC0DA0>, model_name='qwen-2.5-32b', model_kwargs={}, groq_api_key=SecretStr('**********'))"
      ]
     },
     "execution_count": 21,
     "metadata": {},
     "output_type": "execute_result"
    }
   ],
   "source": [
    "llm = ChatGroq(model=\"qwen-2.5-32b\")\n",
    "llm"
   ]
  },
  {
   "cell_type": "code",
   "execution_count": 23,
   "metadata": {},
   "outputs": [],
   "source": [
    "class State(TypedDict):\n",
    "    input_url:str\n",
    "    transcript:str\n",
    "    blog:str\n",
    "\n",
    "\n",
    "#nodes \n",
    "\n",
    "def yt_transcript(state:State):\n",
    "    ## url human in loop \n",
    "    \"\"\"get the transcript of the url provided by the user\n",
    "    \"\"\"\n",
    "    #url = state[\"input_url\"]\n",
    "    loader = YoutubeLoader.from_youtube_url(f\"{state[\"input_url\"]}\",add_video_info = False).load()\n",
    "    transcript = [doc.page_content for doc in loader]\n",
    "    #state['transcript'] = transcript\n",
    "    return {\"transcript\":transcript}\n",
    " \n",
    "\n",
    "def blog_generate(state:State):\n",
    "    \"\"\"generate the blog based on transcript given\n",
    "    \"\"\"\n",
    "    blog = llm.invoke(\"Generate the blog for the youtube video transcript\" + f\"{state['transcript']}\")\n",
    "    #state['blog'] = blog\n",
    "    return {\"blog\":blog}\n",
    "    \n",
    "\n"
   ]
  },
  {
   "cell_type": "code",
   "execution_count": 24,
   "metadata": {},
   "outputs": [
    {
     "data": {
      "image/png": "[encoded data removed]",
      "text/plain": [
       "<IPython.core.display.Image object>"
      ]
     },
     "metadata": {},
     "output_type": "display_data"
    }
   ],
   "source": [
    "## build graph \n",
    "\n",
    "builder = StateGraph(State)\n",
    "\n",
    "## graph nodes \n",
    "builder.add_node(\"yt_transcript\", yt_transcript)\n",
    "builder.add_node(\"blog_generate\", blog_generate)\n",
    "\n",
    "#graph edges \n",
    "builder.add_edge(START,\"yt_transcript\")\n",
    "builder.add_edge(\"yt_transcript\",\"blog_generate\")\n",
    "builder.add_edge(\"blog_generate\",END)\n",
    "\n",
    "#compiling \n",
    "graph = builder.compile()\n",
    "\n",
    "display(Image(graph.get_graph().draw_mermaid_png()))"
   ]
  },
  {
   "cell_type": "code",
   "execution_count": 25,
   "metadata": {},
   "outputs": [],
   "source": [
    "url = \"https://www.youtube.com/watch?v=kYpwBNljV_8\"\n",
    "res = graph.invoke({\"input_url\":url})"
   ]
  },
  {
   "cell_type": "code",
   "execution_count": 26,
   "metadata": {},
   "outputs": [
    {
     "data": {
      "text/plain": [
       "{'input_url': 'https://www.youtube.com/watch?v=kYpwBNljV_8',\n",
       " 'transcript': [\"there's something incredible about energy it's not just a concept it's the force that shapes our lives and the most powerful truth about energy is this Wherever You focus you feed if you focus on problems they grow if you focus on self-doubt it expands but if you focus on becoming better stronger wiser your entire world shifts that's not just motivation that's science that's the way the universe responds to you we live in a world that constantly demands our attention social media opinions expectations they pull us in a hundred different directions and before we know it we're drained not because we lack energy but because we're giving it away to things that don't build us think about it how much time do we spend comparing our journey to someone else's highlight reel how often do we seek validation from people who aren't even walking our path the more we do that the less we focus on what truly matters our own growth our own energy our own purpose every great achiever every GameChanger every leader who transformed the world what did they do differently they focused inward they understood that the only competition worth having is with yesterday's version of thems they didn't chase energy they created it you have that same power when you align your thoughts with your goals when you protect your energy from negativity when you commit to the process rather than the Applause you become Unstoppable the world responds to the energy you put out you attract opportunities when you operate at a higher frequency the question is where is your energy going are you feeding distractions or discipline are you growing or just going through the motions the answer to that will Define everything your future isn't waiting for someone else to validate you it's waiting for you to focus to build to rise and when you do you won't need to chase success it will find you energy is a powerful force and where you direct it determines the outcome of your life every thought every action and every emotion carries energy and the more you focus on something the more power it gain it's easy to get caught up in distractions things that demand attention but don't contribute to growth social media opinions of others external validation these are all energy drains if not managed consciously imagine watering a plant if you consistently nourish it it thrives but if you ignore it and water the weeds instead they overtake the garden the same principle applies to your focus when you put your energy into developing skills improving your mindset and taking small consistent steps toward your goals those areas of your life expand when you waste energy worrying about what others think comparing yourself to people on different Journeys or dwelling on failures you're feeding the wrong things the human mind is wired to amplify what it repeatedly focuses on if you concentrate on problems they seem bigger if you focus on Solutions New Opportunities emerge the most successful people aren't those who never face setbacks they are the ones who choose to direct their energy toward learning and adapting instead of dwelling on what went wrong momentum builds where atten flows the more you focus on personal growth the more clarity you gain the more clarity you gain the more confident and capable you become it's a cycle that starts with one simple Choice deciding where to place your attention there's a simple truth that often gets overlooked everything is energy your thoughts your emotions your actions they all carry energy and they all create impact the real question is where is your energy going too often we let our energy get scattered we focus on things we can't control what others are doing what they think of us what's trending today but forgotten tomorrow we give away our power to distractions comparisons and fears and then we wonder why we feel drained stuck uninspired but the people who achieve real success real fulfillment they do something different they take ownership of their energy they don't chase what's outside they focus on what's inside because they know that when you master yourself everything else falls into place think about it the most successful athletes artists and leaders their power doesn't come from external validation it comes from discipline from mindset from an unshakable commitment to becoming better than they were yesterday you attract what you put out if you focus on problems you'll find more problems if you focus on growth you'll find Opportunities the world doesn't give you what you want it gives you what you are and what you are is a direct reflection of where you place your energy so stop waiting for the right moment stop giving power to distractions stop letting your energy be drain by things that don't build you instead turn inward focus on learning on evolving on creating because when you do success isn't something you chase it's something you become everything around you your thoughts your emotions your actions is energy and where you direct that energy determines the quality of your life yet most people don't realize how much power they have they spend their energy worrying about things they can't control seeking validation from others or comparing themselves to someone else's Journey but here's the truth the more you focus on others the less power you have over yourself the more you seek external approval the further you drift from your own path and the more you chase what's outside because fulfillment doesn't come from chasing it comes from aligning aligning your thoughts with your goals your actions with your values and your energy with the life you want to create think of a magnifying glass when you hold it in the sunlight and focus it on a single point it generates fire but if you keep moving it around the energy gets scattered and nothing ignites your focus works the same way when you concentrate your energy on personal growth on learning on building something meaningful you create momentum but when you allow distractions to pull you in 100 directions you stay stuck so ask yourself where is your energy going is it fueling your growth or is it being drained by things that don't serve you the moment you take ownership of your focus Everything Changes you stop reacting to life and start creating it you stop wasting energy on things that don't matter and start investing it in things that do success isn't about luck it's about energy it's about where you place your attention what you nurture and what you commit to every single day so focus on yourself protect your energy and watch how everything around you begins to shift everything is energy every thought you think every action you take every word you speak it all carries a frequency and the truth is the energy you put out into the world is the energy you get back but here's where most people get it wrong they focus on things outside of themselves on what others are doing on what's trending end in on seeking approval from people who don't even know their struggles and in doing so they lose sight of the one thing that truly matters themselves you see when you constantly compare when you seek validation when you allow distractions to consume your mind you're giving away your energy and when you give away your energy you give away your power your focus becomes scattered your confidence Fades and you start feeling stuck not because you're incapable but because you're energy is being drained in the wrong places but the moment you shift your focus inward everything changes when you invest in yourself your growth your mindset your well-being you elevate your energy and when you elevate your energy you start attracting opportunities relationships and experiences that align with who you're becoming think about the most successful people in the world they don't waste time trying to fit in they don't chase people they don't get caught up in distractions instead they Master themselves they focus on what they can control they build they create they evolve and as a result the world responds to them the truth is you don't need to chase success you need to become the kind of person that success is drawn to and that starts with where you place your energy so stop looking outside for answers stop letting negativity drain your power stop worrying about what others think instead focus on yourself grow learn become because when you do the world has no choice but to take notice everything in life is energy your thoughts your emotions your actions all radiate a frequency that shapes the reality around you the question is where is your energy flowing most people don't realize how much power they have they waste their energy worrying about what others are doing seeking approval chasing things that don't truly fulfill them and then they wonder why they feel stuck drained uninspired it's not because they're not capable it's because they're directing their energy toward the wrong things think about this if you pour water into 10 different cups at once none of them will ever be full but if you focus all that water into one it overflows your energy works the same way when you spread it too thin trying to please everyone one worrying about things you can't control constantly comparing yourself you end up empty but when you Channel it into yourself into your goals into your growth everything begins to expand the most successful people in the world don't waste time looking sideways they don't spend their energy trying to be like someone else they focus inward they build skills they sharpen their mindset they push forward even when no one is watching and because of that the world eventually watches them your life is a reflection of where your energy goes if you focus on negativity you attract more of it if you focus on growth opportunities start appearing if you focus on becoming better every day success becomes inevitable so stop giving your energy away to things that don't serve you stop chasing people who don't see your worth stop waiting for the perfect moment to start focus on yourself build yourself invest in yourself because the moment you do the energy around you will shift and everything you once chased will start chasing you everything is energy the way you think the way you feel the way you move through the world it all carries a frequency and here's the secret the energy you put out is the energy you get back yet too many people waste their energy on things they can't control they worry about other people's opinions they compare their journey to someone else's they chase validation approval and recognition hoping that once they get it they'll finally feel fulfilled but the truth is fulfillment doesn't come from the outside it comes from within think of a radio if you're tuned into the wrong frequency you won't hear the music you want life works the same way if your energy is focused on negativity self-doubt and fear that's exactly what you'll experience but if you shift your energy toward growth self-belief and purpose suddenly everything starts to change the most successful people in in the world understand this they don't waste energy trying to impress others they don't get caught up in distractions they don't let fear dictate their actions instead they focus inward they commit to growth discipline and consistency and because of that the world moves in their favor so ask yourself where is your energy going are you using it to build yourself or are you letting it drain away on things that don't matter are you focusing on your potential or are you trapped in comparison and doubt the moment you take control of your energy everything shifts you stop chasing and you start attracting you stop doubting and you start doing and before you know it Life Starts aligning with the person you're becoming focus on yourself protect your energy and watch how the world transforms around you at the end of the day everything comes down to one simple truth where you place your focus you place your energy and where you place your energy you shape your reality you don't need to seek approval you don't need to compare your path to someone else's you don't need to chase things that were never meant for you what you need is to invest in yourself your growth your mindset your purpose because when you do that life begins to shift so protect your energy focus on becoming the best version of yourself trust the process stay consistent and let your energy work for you because the moment you align your your focus with your purpose everything you once thought was Out Of Reach will start finding its way to you your power has always been within you now it's time to own it\"],\n",
       " 'blog': AIMessage(content=\"### Title: Harnessing the Power of Energy: The Secret to Unstoppable Success\\n\\nIn a world where energy is a ubiquitous force, understanding how to harness and direct it can be the key to achieving unparalleled success. This principle is not just motivational; it's rooted in the very fabric of the universe. Energy is the driving force that shapes our lives, and the most powerful truth about it is this: wherever you focus, you feed. When you focus on problems, they grow; when you focus on self-doubt, it expands. Conversely, focusing on becoming better, stronger, and wiser shifts your entire world.\\n\\n#### The Energy Drain of Modern Life\\n\\nIn today's world, we are often pulled in a hundred different directions by social media, opinions, and expectations. These external forces can drain us of our energy, leaving us feeling depleted and disconnected from our true purpose. The constant comparison to others' highlight reels and the quest for validation from those who may not understand your journey can be exhausting. \\n\\nHowever, the truth is that your future is not waiting for someone else to validate you. It's waiting for you to focus, build, and rise. Success doesn't come from chasing it; it comes from becoming the kind of person that success is drawn to.\\n\\n#### The Power of Inward Focus\\n\\nEvery great achiever, game-changer, and leader who has transformed the world has done so by focusing inward. They understood that the only competition worth having is with yesterday's version of themselves. They didn't chase energy; they created it. This is a power you possess. When you align your thoughts with your goals, protect your energy from negativity, and commit to the process rather than the applause, you become unstoppable.\\n\\n#### The Principle of Energy and Focus\\n\\nEverything is energy: your thoughts, emotions, and actions. Every single day, you have the choice to place your energy towards what truly matters. When you consistently direct your energy towards personal growth, learning, and building something meaningful, you create momentum. But when distractions pull you in multiple directions, you remain stuck.\\n\\nThink of a magnifying glass in the sunlight. When focused on a single point, it can create fire. But if you keep moving it around, the energy is scattered, and nothing ignites. Similarly, when you focus on personal growth, you create the momentum needed to achieve your goals. When you allow distractions to consume you, you remain stagnant.\\n\\n#### The Choice to Own Your Energy\\n\\nMost people lose sight of their own worth by directing their energy outward—chasing approval, comparing themselves to others, and seeking validation from external sources. In doing so, they not only scatter their energy but also give away their power. The highly successful people in the world don't waste their energy trying to fit in or impress others. They master themselves, focusing on what they can control—building skills, sharpening their mindset, and pushing forward, even when no one is watching.\\n\\n#### Conclusion: Aligning Your Focus with Your Purpose\\n\\nYour life is a reflection of where your energy goes. If you focus on negativity, you attract more negativity. Conversely, focusing on growth and self-belief brings opportunities and success. You don't need to chase success; you need to become the person that success naturally seeks. \\n\\nSo, where is your energy going? Are you using it to build yourself, or are you letting it drain away on things that don’t matter? Are you focusing on your potential, or are you trapped in comparison and doubt?\\n\\nThe moment you take control of your energy, everything shifts. You stop chasing and start attracting. You stop doubting and start acting. And before you know it, life aligns with the person you're becoming. Focus on yourself, protect your energy, and watch how the world transforms around you.\\n\\nIn essence, everything comes down to one simple truth: where you place your focus, you place your energy, and where you place your energy, you shape your reality. Your power has always been within you. Now, it’s time to own it.\", additional_kwargs={}, response_metadata={'token_usage': {'completion_tokens': 823, 'prompt_tokens': 2370, 'total_tokens': 3193, 'completion_time': 4.115, 'prompt_time': 0.120959234, 'queue_time': 0.23935122700000003, 'total_time': 4.235959234}, 'model_name': 'qwen-2.5-32b', 'system_fingerprint': 'fp_35f92f8282', 'finish_reason': 'stop', 'logprobs': None}, id='run-a166417f-c045-4a5a-bf75-728572e4708f-0', usage_metadata={'input_tokens': 2370, 'output_tokens': 823, 'total_tokens': 3193})}"
      ]
     },
     "execution_count": 26,
     "metadata": {},
     "output_type": "execute_result"
    }
   ],
   "source": [
    "res"
   ]
  },
  {
   "cell_type": "code",
   "execution_count": 27,
   "metadata": {},
   "outputs": [
    {
     "name": "stdout",
     "output_type": "stream",
     "text": [
      "### Title: Harnessing the Power of Energy: The Secret to Unstoppable Success\n",
      "\n",
      "In a world where energy is a ubiquitous force, understanding how to harness and direct it can be the key to achieving unparalleled success. This principle is not just motivational; it's rooted in the very fabric of the universe. Energy is the driving force that shapes our lives, and the most powerful truth about it is this: wherever you focus, you feed. When you focus on problems, they grow; when you focus on self-doubt, it expands. Conversely, focusing on becoming better, stronger, and wiser shifts your entire world.\n",
      "\n",
      "#### The Energy Drain of Modern Life\n",
      "\n",
      "In today's world, we are often pulled in a hundred different directions by social media, opinions, and expectations. These external forces can drain us of our energy, leaving us feeling depleted and disconnected from our true purpose. The constant comparison to others' highlight reels and the quest for validation from those who may not understand your journey can be exhausting. \n",
      "\n",
      "However, the truth is that your future is not waiting for someone else to validate you. It's waiting for you to focus, build, and rise. Success doesn't come from chasing it; it comes from becoming the kind of person that success is drawn to.\n",
      "\n",
      "#### The Power of Inward Focus\n",
      "\n",
      "Every great achiever, game-changer, and leader who has transformed the world has done so by focusing inward. They understood that the only competition worth having is with yesterday's version of themselves. They didn't chase energy; they created it. This is a power you possess. When you align your thoughts with your goals, protect your energy from negativity, and commit to the process rather than the applause, you become unstoppable.\n",
      "\n",
      "#### The Principle of Energy and Focus\n",
      "\n",
      "Everything is energy: your thoughts, emotions, and actions. Every single day, you have the choice to place your energy towards what truly matters. When you consistently direct your energy towards personal growth, learning, and building something meaningful, you create momentum. But when distractions pull you in multiple directions, you remain stuck.\n",
      "\n",
      "Think of a magnifying glass in the sunlight. When focused on a single point, it can create fire. But if you keep moving it around, the energy is scattered, and nothing ignites. Similarly, when you focus on personal growth, you create the momentum needed to achieve your goals. When you allow distractions to consume you, you remain stagnant.\n",
      "\n",
      "#### The Choice to Own Your Energy\n",
      "\n",
      "Most people lose sight of their own worth by directing their energy outward—chasing approval, comparing themselves to others, and seeking validation from external sources. In doing so, they not only scatter their energy but also give away their power. The highly successful people in the world don't waste their energy trying to fit in or impress others. They master themselves, focusing on what they can control—building skills, sharpening their mindset, and pushing forward, even when no one is watching.\n",
      "\n",
      "#### Conclusion: Aligning Your Focus with Your Purpose\n",
      "\n",
      "Your life is a reflection of where your energy goes. If you focus on negativity, you attract more negativity. Conversely, focusing on growth and self-belief brings opportunities and success. You don't need to chase success; you need to become the person that success naturally seeks. \n",
      "\n",
      "So, where is your energy going? Are you using it to build yourself, or are you letting it drain away on things that don’t matter? Are you focusing on your potential, or are you trapped in comparison and doubt?\n",
      "\n",
      "The moment you take control of your energy, everything shifts. You stop chasing and start attracting. You stop doubting and start acting. And before you know it, life aligns with the person you're becoming. Focus on yourself, protect your energy, and watch how the world transforms around you.\n",
      "\n",
      "In essence, everything comes down to one simple truth: where you place your focus, you place your energy, and where you place your energy, you shape your reality. Your power has always been within you. Now, it’s time to own it.\n"
     ]
    }
   ],
   "source": [
    "print(res['blog'].content)\n",
    "#res[\"blog\"].content.pretty_print()"
   ]
  },
  {
   "cell_type": "code",
   "execution_count": 19,
   "metadata": {},
   "outputs": [
    {
     "data": {
      "text/markdown": [
       "### Blog Post: Harnessing the Power of Your Energy for Personal Transformation\n",
       "\n",
       "In a world where social media, opinions, and external expectations dominate our daily lives, it's easy to feel overwhelmed and drained. But what if I told you that the key to success, fulfillment, and personal growth lies within your own hands? The secret is understanding and harnessing the power of your energy.\n",
       "\n",
       "#### The Power of Focus: Feed What Matters\n",
       "\n",
       "The concept of energy is not just a philosophical idea; it's a scientific reality that shapes our lives. The principle is simple yet profound: wherever you focus, you feed. If you focus on problems, they grow. If you focus on self-doubt, it expands. Conversely, if you focus on becoming better, stronger, and wiser, your entire world shifts. The transformation begins internally, with a shift in your mindset.\n",
       "\n",
       "#### The Dangers of Scattering Your Energy\n",
       "\n",
       "In today's fast-paced world, we are often pulled in a hundred different directions. Social media, the opinions of others, and the constant need for validation can drain your energy without you even realizing it. This is not just a motivational buzzword; it's a scientific fact. Your thoughts, emotions, and actions all carry energy, and the more you focus on something, the more power it gains.\n",
       "\n",
       "Imagine your life as a garden. If you consistently water the weeds, they will take over. But if you focus on nourishing the plants you care about, they will grow stronger and more vibrant. The same principle applies to your life. When you focus on developing skills, improving your mindset, and taking consistent steps towards your goals, those areas of your life will flourish.\n",
       "\n",
       "#### The Importance of Inward Focus\n",
       "\n",
       "The most successful people in the world—athletes, artists, leaders—don't achieve greatness by chasing external validation. They achieve greatness by mastering themselves. They focus inward, nurturing their growth, sharpening their skills, and pushing forward with discipline and consistency. They understand that the only competition worth having is with yesterday's version of themselves.\n",
       "\n",
       "#### Energy and Frequency: The Law of Attraction\n",
       "\n",
       "Everything in life is energy. Your thoughts, your emotions, and your actions all carry a frequency that shapes your reality. The energy you put out into the world is the energy you get back. You can't control the external world, but you can control your focus. By focusing on growth, self-belief, and purpose, you change the frequency of your life.\n",
       "\n",
       "#### The Shift Begins Within\n",
       "\n",
       "The first step in harnessing your energy is to take ownership of where it goes. Are you using your energy to build yourself, or are you letting it drain away on things that don't matter? Are you focusing on your potential, or getting lost in comparison and doubt? The moment you take control of your energy, everything changes. You stop chasing and start attracting. You stop doubting and start doing.\n",
       "\n",
       "#### Conclusion: Embrace Your Power\n",
       "\n",
       "At the end of the day, the truth is simple: where you place your focus, you place your energy, and where you place your energy, you shape your reality. You don't need external validation or to compare your path to someone else's. You don't need to chase things that were never meant for you. What you need is to invest in yourself—your growth, your mindset, and your purpose. \n",
       "\n",
       "When you do, life begins to shift. You start to attract opportunities, relationships, and experiences that align with the person you are becoming. Your power has always been within you. Now is the time to own it.\n",
       "\n",
       "---\n",
       "\n",
       "By embracing this mindset and applying these principles, you can transform not just your life, but the world around you. The journey starts with a single step: focusing your energy on what truly matters."
      ],
      "text/plain": [
       "<IPython.core.display.Markdown object>"
      ]
     },
     "execution_count": 19,
     "metadata": {},
     "output_type": "execute_result"
    }
   ],
   "source": [
    "from IPython.display import Markdown\n",
    "Markdown(res['blog'].content)"
   ]
  },
  {
   "cell_type": "code",
   "execution_count": null,
   "metadata": {},
   "outputs": [],
   "source": []
  }
 ],
 "metadata": {
  "kernelspec": {
   "display_name": "Python 3",
   "language": "python",
   "name": "python3"
  },
  "language_info": {
   "codemirror_mode": {
    "name": "ipython",
    "version": 3
   },
   "file_extension": ".py",
   "mimetype": "text/x-python",
   "name": "python",
   "nbconvert_exporter": "python",
   "pygments_lexer": "ipython3",
   "version": "3.13.2"
  }
 },
 "nbformat": 4,
 "nbformat_minor": 2
}
